{
 "cells": [
  {
   "cell_type": "code",
   "execution_count": 1,
   "id": "5e64c3db-b5f1-423b-8915-38952886cfd2",
   "metadata": {},
   "outputs": [],
   "source": [
    "import numpy as np\n",
    "import pandas as pd\n",
    "import os\n",
    "from sqlalchemy import types, create_engine\n",
    "import cx_Oracle\n",
    "# import diffprivlib as dp\n",
    "import matplotlib.pyplot as plt\n",
    "%matplotlib inline\n",
    "\n",
    "from IPython.display import display\n",
    "from ipywidgets import Layout, interact, IntSlider, widgets\n"
   ]
  },
  {
   "cell_type": "code",
   "execution_count": 76,
   "id": "1e5fdb9a-77d3-4905-b9d1-cc40542659a1",
   "metadata": {},
   "outputs": [],
   "source": [
    "#Random data set with a sensative attribue of food choise\n",
    "data = {'Name (ID)' : ['Bill','Julia','Rose','Gwen','Peter','James','Anita','Rob',\n",
    "                  'Jess','Edith','Catherin','Ellie','Andrew','Ruth','Barry','Hope',\n",
    "                  'Ruby','Sian','Edward','James','Amanda'],\n",
    "        'Age (QID)' : [23,19,22,25,30,18,18,16,28,29,21,\n",
    "                  25,18,27,19,13,25,19,18,19,23], \n",
    "        'Gender (QID)' : ['M','F','F','F','M','M','F','M','F','M','M','F','M','F',\n",
    "                'F','M','F','F','M','F','M'],\n",
    "        'Political Party' : ['Green Party','Red Party','Red Party','Green Party','Green Party',\n",
    "                'Red Party','Red Party','Green Party','Red Party','Green Party',\n",
    "                'Green Party','Green Party','Green Party','Red Party','Green Party',\n",
    "                'Red Party','Green Party','Red Party','Red Party','Red Party',\n",
    "                'Green Party']}\n",
    "                  \n",
    "df = pd.DataFrame(data=data)\n",
    "\n",
    "df['Name (ID)'] = '*'\n"
   ]
  },
  {
   "cell_type": "markdown",
   "id": "9725daf2-7181-443f-b6e9-9b243c284a6b",
   "metadata": {},
   "source": [
    "## Metrics functions"
   ]
  },
  {
   "cell_type": "code",
   "execution_count": 3,
   "id": "760ce315-7187-45b4-9ce7-9888bfc61bce",
   "metadata": {},
   "outputs": [],
   "source": [
    "def k_annonymity(df, qid):\n",
    "    \"\"\"returns the k annonymity value given the quasi-identifier field titles\n",
    "    \n",
    "    Parameters\n",
    "    ----------\n",
    "    df : DataFrame\n",
    "        dataframe for which k value is to be calculated\n",
    "    qid : list\n",
    "        list of quasi-identifier columns\n",
    "        \n",
    "    Returns\n",
    "    -------\n",
    "    int \n",
    "        k value \n",
    "    \"\"\"\n",
    "\n",
    "    quid_groupsize = df.groupby(qid).size()\n",
    "    return quid_groupsize[quid_groupsize > 0].min()\n",
    "\n",
    "\n",
    "def l_diversity(df, qid, sa):\n",
    "    \"\"\"returns the l diversity value given the quasi-identifier field titles\n",
    "    \n",
    "    Parameters\n",
    "    ----------\n",
    "    df : DataFrame\n",
    "        dataframe for which k value is to be calculated\n",
    "    qid : list\n",
    "        list of quasi-identifier columns\n",
    "    sa : list\n",
    "        list of sensitive attribute columns\n",
    "        \n",
    "    Returns\n",
    "    -------\n",
    "    int \n",
    "        l value \n",
    "    \"\"\"\n",
    "    sa_size_quids = df.groupby(qid)[sa].nunique()\n",
    "    return sa_size_quids[sa_size_quids > 0].squeeze().min() # This assumes only one SA!\n",
    "    # l-divesity generally only applies to a single SA \n",
    "    \n",
    "def GIL(uq, lq, u, l):\n",
    "    return (uq - lq) / (u - l)\n",
    "    "
   ]
  },
  {
   "cell_type": "markdown",
   "id": "0d12c88f-19a9-4207-8de7-d23868362445",
   "metadata": {},
   "source": [
    "# Record supression"
   ]
  },
  {
   "cell_type": "code",
   "execution_count": 91,
   "id": "f80b8324-38ef-4865-a093-0ccd4cd01d47",
   "metadata": {},
   "outputs": [
    {
     "data": {
      "application/vnd.jupyter.widget-view+json": {
       "model_id": "2fd7aa57999c4fcc9f042040e34fd160",
       "version_major": 2,
       "version_minor": 0
      },
      "text/plain": [
       "IntSlider(value=1, description='k value:', layout=Layout(width='400px'), max=5, min=1)"
      ]
     },
     "metadata": {},
     "output_type": "display_data"
    },
    {
     "data": {
      "application/vnd.jupyter.widget-view+json": {
       "model_id": "e6d438ea47c6429fb71407af7f9d6795",
       "version_major": 2,
       "version_minor": 0
      },
      "text/plain": [
       "Output()"
      ]
     },
     "metadata": {},
     "output_type": "display_data"
    },
    {
     "data": {
      "application/vnd.jupyter.widget-view+json": {
       "model_id": "2b1ea4c66d6b403a8e321b4af8c597af",
       "version_major": 2,
       "version_minor": 0
      },
      "text/plain": [
       "Output()"
      ]
     },
     "metadata": {},
     "output_type": "display_data"
    }
   ],
   "source": [
    "k = widgets.IntSlider(value=1, min=1, max=5, description='k value:',layout=Layout(width='400px'))\n",
    "\n",
    "def f_supression(k):\n",
    "    QID = ['Age (QID)', 'Gender (QID)'] # define quasi-identifyer groups\n",
    "\n",
    "    orig_length = len(df)\n",
    "    new_length = len(df.groupby(QID).filter(lambda x: len(x)>=k))\n",
    "    print(\"%d%% of data supressed\" %(np.round(((orig_length - new_length) / orig_length)* 100)))\n",
    "\n",
    "def f_supression_data(k):\n",
    "    dfs = df.copy()\n",
    "    QID = ['Age (QID)', 'Gender (QID)']\n",
    "    index = dfs.groupby(QID).filter(lambda x: len(x)<k).index\n",
    "    dfs.iloc[index] = '----------'\n",
    "    display(dfs)\n",
    "\n",
    "out1 = widgets.interactive_output(f_supression, {'k': k})\n",
    "out2 = widgets.interactive_output(f_supression_data, {'k': k})\n",
    "\n",
    "display(k)\n",
    "display(out1)\n",
    "display(out2)"
   ]
  },
  {
   "cell_type": "markdown",
   "id": "ed0bf57d-e123-44f2-a6e4-60c10a8a73c8",
   "metadata": {},
   "source": [
    "# Combined"
   ]
  },
  {
   "cell_type": "code",
   "execution_count": 5,
   "id": "9ebd82da-bb48-4311-a0c7-9f3464ee1655",
   "metadata": {},
   "outputs": [
    {
     "data": {
      "application/vnd.jupyter.widget-view+json": {
       "model_id": "b2a17133847e4e5e82a47a3c08f645f1",
       "version_major": 2,
       "version_minor": 0
      },
      "text/plain": [
       "IntSlider(value=1, description='Step size:', layout=Layout(width='400px'), max=40, min=1)"
      ]
     },
     "metadata": {},
     "output_type": "display_data"
    },
    {
     "data": {
      "application/vnd.jupyter.widget-view+json": {
       "model_id": "1f8cb228aec844c18c5ca41cfa8385a0",
       "version_major": 2,
       "version_minor": 0
      },
      "text/plain": [
       "Output()"
      ]
     },
     "metadata": {},
     "output_type": "display_data"
    },
    {
     "data": {
      "application/vnd.jupyter.widget-view+json": {
       "model_id": "1528fb874d8746848fea8e27a536fc75",
       "version_major": 2,
       "version_minor": 0
      },
      "text/plain": [
       "Output()"
      ]
     },
     "metadata": {},
     "output_type": "display_data"
    },
    {
     "data": {
      "application/vnd.jupyter.widget-view+json": {
       "model_id": "ec294dc946974f4abd45148016d290bf",
       "version_major": 2,
       "version_minor": 0
      },
      "text/plain": [
       "Output()"
      ]
     },
     "metadata": {},
     "output_type": "display_data"
    }
   ],
   "source": [
    "step_size = widgets.IntSlider(value=1, min=1, max=40, description='Step size:',layout=Layout(width='400px'))\n",
    "\n",
    "def label_age(step_size):\n",
    "    print('Ages changed to %d year steps' %(step_size))\n",
    "\n",
    "def f_ranging(step_size):\n",
    "    dfs = df.copy()\n",
    "    dfs['ranged'] = np.floor((dfs['Age (QID)']/step_size))*step_size\n",
    "    dfs['ranged'] = dfs['ranged'].astype(int)\n",
    "    dfs['Age (QID)'] = dfs['ranged'].astype(str) + '-' + (dfs['ranged']+step_size).astype(str)\n",
    "    dfs = dfs.drop(columns=['ranged'])\n",
    "    display(dfs)\n",
    "\n",
    "\n",
    "def f_ranging_k(step_size):\n",
    "    dfs = df.copy()\n",
    "    dfs['ranged'] = np.floor((dfs['Age (QID)']/step_size))*step_size\n",
    "    dfs['ranged'] = dfs['ranged'].astype(int)\n",
    "    gil = GIL(max(dfs['ranged'] + step_size) , min(dfs['ranged']), max(dfs['Age (QID)']), min(dfs['Age (QID)']))\n",
    "    dfs['Age (QID)'] = dfs['ranged'].astype(str) + '-' + (dfs['ranged']+step_size).astype(str)\n",
    "    qid = ['Age (QID)', 'Gender (QID)'] # define quasi-identifyer groups\n",
    "    quid_groupsize = dfs.groupby(qid).size()\n",
    "    k_val = quid_groupsize[quid_groupsize > 0].min()\n",
    "    print('k-annonymity has a value of k = %d' %k_val)\n",
    "    print(\"Generalised information loss = %.3f\" %gil)\n",
    "    \n",
    "\n",
    "out1 = widgets.interactive_output(label_age, {'step_size': step_size})\n",
    "out2 = widgets.interactive_output(f_ranging_k, {'step_size': step_size})\n",
    "out3 = widgets.interactive_output(f_ranging, {'step_size': step_size})\n",
    "\n",
    "display(step_size)\n",
    "display(out1)\n",
    "display(out2)\n",
    "display(out3)\n",
    "\n"
   ]
  },
  {
   "cell_type": "markdown",
   "id": "872316da-81ab-4618-aa3d-36087372d59a",
   "metadata": {},
   "source": [
    "# Combined"
   ]
  },
  {
   "cell_type": "code",
   "execution_count": 110,
   "id": "98fe2cdb-78d1-4c60-8b10-9d493c6bd3dd",
   "metadata": {},
   "outputs": [
    {
     "data": {
      "application/vnd.jupyter.widget-view+json": {
       "model_id": "76910f26d9b24187869b2c98a1eb405b",
       "version_major": 2,
       "version_minor": 0
      },
      "text/plain": [
       "IntSlider(value=1, description='k value:', layout=Layout(width='400px'), max=5, min=1)"
      ]
     },
     "metadata": {},
     "output_type": "display_data"
    },
    {
     "data": {
      "application/vnd.jupyter.widget-view+json": {
       "model_id": "cf751d72995343f0a44c502806986cd2",
       "version_major": 2,
       "version_minor": 0
      },
      "text/plain": [
       "Output()"
      ]
     },
     "metadata": {},
     "output_type": "display_data"
    },
    {
     "name": "stdout",
     "output_type": "stream",
     "text": [
      "\n",
      "\n"
     ]
    },
    {
     "data": {
      "application/vnd.jupyter.widget-view+json": {
       "model_id": "fbde39dd77eb4e5b9b7b90c646f87659",
       "version_major": 2,
       "version_minor": 0
      },
      "text/plain": [
       "IntSlider(value=1, description='Step size:', layout=Layout(width='400px'), max=40, min=1)"
      ]
     },
     "metadata": {},
     "output_type": "display_data"
    },
    {
     "data": {
      "application/vnd.jupyter.widget-view+json": {
       "model_id": "37b6002d214b4dc4a265555d825d8da7",
       "version_major": 2,
       "version_minor": 0
      },
      "text/plain": [
       "Output()"
      ]
     },
     "metadata": {},
     "output_type": "display_data"
    },
    {
     "name": "stdout",
     "output_type": "stream",
     "text": [
      "\n",
      "\n"
     ]
    },
    {
     "data": {
      "application/vnd.jupyter.widget-view+json": {
       "model_id": "f9666ff43dde4df4b285343edde8ddca",
       "version_major": 2,
       "version_minor": 0
      },
      "text/plain": [
       "Output()"
      ]
     },
     "metadata": {},
     "output_type": "display_data"
    },
    {
     "data": {
      "application/vnd.jupyter.widget-view+json": {
       "model_id": "8331a869849e449495d4ce1a1b6b07b8",
       "version_major": 2,
       "version_minor": 0
      },
      "text/plain": [
       "Output()"
      ]
     },
     "metadata": {},
     "output_type": "display_data"
    }
   ],
   "source": [
    "k = widgets.IntSlider(value=1, min=1, max=5, description='k value:',layout=Layout(width='400px'))\n",
    "step_size = widgets.IntSlider(value=1, min=1, max=40, description='Step size:',layout=Layout(width='400px'))\n",
    "\n",
    "dfs = df.copy()\n",
    "\n",
    "def meassure_supression(k, step_size):\n",
    "    QID = ['Age (QID)', 'Gender (QID)'] # define quasi-identifyer groups\n",
    "    \n",
    "    dfs = df.copy()\n",
    "    dfs['ranged'] = np.floor((dfs['Age (QID)']/step_size))*step_size\n",
    "    dfs['ranged'] = dfs['ranged'].astype(int)\n",
    "    dfs['Age (QID)'] = dfs['ranged'].astype(str) + '-' + (dfs['ranged']+step_size).astype(str)\n",
    "    dfs = dfs.drop(columns=['ranged'])\n",
    "\n",
    "    orig_length = len(df)\n",
    "    new_length = len(dfs.groupby(QID).filter(lambda x: len(x)>=k))\n",
    "    print(\"%d%% of data supressed\" %(np.round(((orig_length - new_length) / orig_length)* 100)))\n",
    "\n",
    "def generalise_supress(k, step_size):\n",
    "    dfs = df.copy()\n",
    "    dfs['ranged'] = np.floor((dfs['Age (QID)']/step_size))*step_size\n",
    "    dfs['ranged'] = dfs['ranged'].astype(int)\n",
    "    dfs['Age (QID)'] = dfs['ranged'].astype(str) + '-' + (dfs['ranged']+step_size).astype(str)\n",
    "    dfs = dfs.drop(columns=['ranged'])\n",
    "    QID = ['Age (QID)', 'Gender (QID)']\n",
    "    index = dfs.groupby(QID).filter(lambda x: len(x)<k).index\n",
    "    dfs.iloc[index] = '----------'\n",
    "    display(dfs)\n",
    "\n",
    "    \n",
    "def label_age(step_size):\n",
    "    print('Ages changed to %d year steps' %(step_size))\n",
    "    \n",
    "\n",
    "def meassure_k(k, step_size):\n",
    "    dfs = df.copy()\n",
    "    dfs['ranged'] = np.floor((dfs['Age (QID)']/step_size))*step_size\n",
    "    dfs['ranged'] = dfs['ranged'].astype(int)\n",
    "    gil = GIL(max(dfs['ranged'] + step_size) , min(dfs['ranged']), max(dfs['Age (QID)']), min(dfs['Age (QID)']))\n",
    "    dfs['Age (QID)'] = dfs['ranged'].astype(str) + '-' + (dfs['ranged']+step_size).astype(str)\n",
    "    \n",
    "    dfs = dfs.groupby(QID).filter(lambda x: len(x)>=k)\n",
    "\n",
    "    qid = ['Age (QID)', 'Gender (QID)'] # define quasi-identifyer groups\n",
    "    quid_groupsize = dfs.groupby(qid).size()\n",
    "    k_val = quid_groupsize[quid_groupsize > 0].min()\n",
    "    if np.isnan(k_val): k_val = 0\n",
    "    print('k-annonymity has a value of k = %d' %k_val)\n",
    "    print(\"Generalised information loss = %.3f\" %gil)\n",
    "\n",
    "    \n",
    "out1 = widgets.interactive_output(meassure_supression, {'k': k, 'step_size': step_size})\n",
    "out2 = widgets.interactive_output(generalise_supress, {'k': k, 'step_size': step_size})\n",
    "\n",
    "out3 = widgets.interactive_output(label_age, {'step_size': step_size})\n",
    "out4 = widgets.interactive_output(meassure_k, {'k': k, 'step_size': step_size})\n",
    "\n",
    "display(k)\n",
    "display(out1)\n",
    "\n",
    "print('\\n')\n",
    "\n",
    "display(step_size)\n",
    "display(out3)\n",
    "\n",
    "print('\\n')\n",
    "\n",
    "display(out4)\n",
    "display(out2)\n"
   ]
  },
  {
   "cell_type": "code",
   "execution_count": null,
   "id": "131157db-bcbc-4337-a5ce-0052b53aebaf",
   "metadata": {},
   "outputs": [],
   "source": []
  }
 ],
 "metadata": {
  "kernelspec": {
   "display_name": "Python 3 (ipykernel)",
   "language": "python",
   "name": "python3"
  },
  "language_info": {
   "codemirror_mode": {
    "name": "ipython",
    "version": 3
   },
   "file_extension": ".py",
   "mimetype": "text/x-python",
   "name": "python",
   "nbconvert_exporter": "python",
   "pygments_lexer": "ipython3",
   "version": "3.9.7"
  }
 },
 "nbformat": 4,
 "nbformat_minor": 5
}
